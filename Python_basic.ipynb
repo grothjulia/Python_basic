{
  "nbformat": 4,
  "nbformat_minor": 0,
  "metadata": {
    "colab": {
      "provenance": [],
      "authorship_tag": "ABX9TyN+Nty377d+jhX0YtibNIBz",
      "include_colab_link": true
    },
    "kernelspec": {
      "name": "python3",
      "display_name": "Python 3"
    },
    "language_info": {
      "name": "python"
    }
  },
  "cells": [
    {
      "cell_type": "markdown",
      "metadata": {
        "id": "view-in-github",
        "colab_type": "text"
      },
      "source": [
        "<a href=\"https://colab.research.google.com/github/grothjulia/Python_basic/blob/main/Python_basic.ipynb\" target=\"_parent\"><img src=\"https://colab.research.google.com/assets/colab-badge.svg\" alt=\"Open In Colab\"/></a>"
      ]
    },
    {
      "cell_type": "code",
      "execution_count": 1,
      "metadata": {
        "id": "a1TRw-qV_twd",
        "colab": {
          "base_uri": "https://localhost:8080/"
        },
        "outputId": "9c539d97-1007-4088-8d51-ef730658c156"
      },
      "outputs": [
        {
          "output_type": "stream",
          "name": "stdout",
          "text": [
            "1 competição de Phyton\n"
          ]
        }
      ],
      "source": [
        "print(\"I competição de Phyton\")"
      ]
    },
    {
      "cell_type": "code",
      "source": [
        "ano = \"II\"\n",
        "\n",
        "print (ano,\"competição de Phyton\")"
      ],
      "metadata": {
        "id": "tOV3kyA7BHL2"
      },
      "execution_count": null,
      "outputs": []
    },
    {
      "cell_type": "code",
      "source": [
        "print( f\"{ano} Competição de Phyton\")"
      ],
      "metadata": {
        "id": "jIYj9OFlE2Hb"
      },
      "execution_count": null,
      "outputs": []
    }
  ]
}