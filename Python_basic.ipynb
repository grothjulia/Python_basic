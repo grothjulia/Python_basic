{
  "nbformat": 4,
  "nbformat_minor": 0,
  "metadata": {
    "colab": {
      "provenance": [],
      "authorship_tag": "ABX9TyPyeA14y0/bFvOWEBbDGoEy",
      "include_colab_link": true
    },
    "kernelspec": {
      "name": "python3",
      "display_name": "Python 3"
    },
    "language_info": {
      "name": "python"
    }
  },
  "cells": [
    {
      "cell_type": "markdown",
      "metadata": {
        "id": "view-in-github",
        "colab_type": "text"
      },
      "source": [
        "<a href=\"https://colab.research.google.com/github/grothjulia/Python_basic/blob/main/Python_basic.ipynb\" target=\"_parent\"><img src=\"https://colab.research.google.com/assets/colab-badge.svg\" alt=\"Open In Colab\"/></a>"
      ]
    },
    {
      "cell_type": "markdown",
      "source": [
        "## aula 1"
      ],
      "metadata": {
        "id": "HAN8M8MgBfpQ"
      }
    },
    {
      "cell_type": "code",
      "execution_count": 4,
      "metadata": {
        "id": "a1TRw-qV_twd",
        "colab": {
          "base_uri": "https://localhost:8080/"
        },
        "outputId": "63921527-d443-4c8d-9fd1-78e3f15160e7"
      },
      "outputs": [
        {
          "output_type": "stream",
          "name": "stdout",
          "text": [
            "I competição de Phyton\n"
          ]
        }
      ],
      "source": [
        "print(\"I competição de Phyton\")"
      ]
    },
    {
      "cell_type": "code",
      "source": [
        "ano = \"II\"\n",
        "\n",
        "print (ano,\"competição de Phyton\")"
      ],
      "metadata": {
        "id": "tOV3kyA7BHL2",
        "outputId": "c9f62478-cdae-433a-be89-19a746882e8e",
        "colab": {
          "base_uri": "https://localhost:8080/"
        }
      },
      "execution_count": 5,
      "outputs": [
        {
          "output_type": "stream",
          "name": "stdout",
          "text": [
            "II competição de Phyton\n"
          ]
        }
      ]
    },
    {
      "cell_type": "code",
      "source": [
        "print( f\"{ano} Competição de Phyton\")"
      ],
      "metadata": {
        "id": "jIYj9OFlE2Hb",
        "outputId": "72cfd938-36dc-4273-dfee-16277c784c20",
        "colab": {
          "base_uri": "https://localhost:8080/"
        }
      },
      "execution_count": 6,
      "outputs": [
        {
          "output_type": "stream",
          "name": "stdout",
          "text": [
            "II Competição de Phyton\n"
          ]
        }
      ]
    },
    {
      "cell_type": "markdown",
      "source": [
        "## aula 2"
      ],
      "metadata": {
        "id": "9RMGLAMnBtnz"
      }
    },
    {
      "cell_type": "markdown",
      "source": [
        "\n",
        "Contexto:\n",
        "Uma escola está promovendo uma campanha de incentivo à leitura, em que cada estudante recebe pontos ao concluir livros. Esses pontos podem ser trocados por diferentes premios da escola. As categorias de livros têm valores de pontos diferentes:\n",
        "\n",
        "    Livro de ficção: 10 pontos\n",
        "    Livro de não-ficção: 8 pontos\n",
        "    Livro infantil: 6 pontos\n",
        "\n",
        "Rodrigo leu um livro de cada categoria. Agora ele quer saber quantos pontos acumulou com sua leitura.\n",
        "Nosso objetivo é criar um programa em Python que:\n",
        "\n",
        "    Armazene a pontuação de cada categoria de livro em uma variável.\n",
        "    Calcule o total de pontos acumulados por Rodrigo.\n",
        "    Mostre na tela o total de pontos acumulados por Rodrigo."
      ],
      "metadata": {
        "id": "1gGYX5GdCMFo"
      }
    },
    {
      "cell_type": "code",
      "source": [
        "livro_ficção = 10\n",
        "livro_nficção = 8\n",
        "livro_infantil = 6\n",
        "pontos_rodrigo = livro_ficção + livro_nficção + livro_infantil\n",
        "print(f\"Os pontos do Rodrigo são: {pontos_rodrigo}\")"
      ],
      "metadata": {
        "id": "4C0lAikzCh-o",
        "outputId": "c12271e7-73ef-4609-e515-66b530edab9f",
        "colab": {
          "base_uri": "https://localhost:8080/"
        }
      },
      "execution_count": 27,
      "outputs": [
        {
          "output_type": "stream",
          "name": "stdout",
          "text": [
            "Os pontos do Rodrigo são: 24\n"
          ]
        }
      ]
    },
    {
      "cell_type": "markdown",
      "source": [
        "Uma professora quer criar um progama em Phyton que armazene as notas de seus alunos com as seguintes variáveis:\n",
        "Nota >= 7 aprovado;\n",
        "Nota <7 e >4 recuperação;\n",
        "Nota < 4 reprovado;\n",
        "Os alunos são Roberta, Mauro e Melissa e as notas são as seguintes:\n",
        "Roberta = 7\n",
        "Mauro = 3\n",
        "Melissa = 4\n"
      ],
      "metadata": {
        "id": "zcOk-vMhGNpN"
      }
    },
    {
      "cell_type": "code",
      "source": [
        "aprovados = 7"
      ],
      "metadata": {
        "id": "hmwigETeHPEG"
      },
      "execution_count": null,
      "outputs": []
    },
    {
      "cell_type": "code",
      "source": [],
      "metadata": {
        "id": "-819oprWGULT"
      },
      "execution_count": null,
      "outputs": []
    }
  ]
}